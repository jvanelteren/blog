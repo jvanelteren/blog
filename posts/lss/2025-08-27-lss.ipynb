{
 "cells": [
  {
   "cell_type": "raw",
   "metadata": {
    "vscode": {
     "languageId": "raw"
    }
   },
   "source": [
    "---\n",
    "aliases:\n",
    "- /2025/08/27/leansixsigma\n",
    "author: Jesse van Elteren\n",
    "badges: true\n",
    "branch: master\n",
    "categories: [lean six sigma]\n",
    "date: '2025-08-27'\n",
    "description: it's not magic, it’s logical thinking\n",
    "image: lss.png\n",
    "output-file: 2025-08-27-leansixsigma.html\n",
    "title: Lean Six Sigma\n",
    "toc: false\n",
    "\n",
    "---"
   ]
  },
  {
   "cell_type": "markdown",
   "metadata": {
    "vscode": {
     "languageId": "raw"
    }
   },
   "source": [
    "![](lss.png)"
   ]
  },
  {
   "cell_type": "markdown",
   "metadata": {},
   "source": [
    "Inspired by some recent Lean Six Sigma posts, I thought it's about time I wrote a blog post on it. I want to convey what I see as the essentials. If you apply this, I believe you can get a lot of the benefits.\n",
    "\n",
    "There can be a certain elitism around the mysteries of Lean Six Sigma. A lot of tools with strange Japanese names. And those difficult statistics! Many practitioners have gone through training, trying to wrap their head around all of the tools and statistics. But the method is much more important than the tools. Seeing the forest through the trees...\n",
    "\n",
    "At the core it's really simple — but not simplistic. Many initiatives fail this logic. Below the 5 steps from the Six Sigma DMAIC method and the pitfalls I often see.\n",
    "\n",
    "**DMAIC 5 Steps (with pitfalls)**\n",
    "\n",
    "1) **Define**: What is the problem\n",
    "* Work is done on on a solution for no problem.\n",
    "* The problem or the benefits it will bring the organisation are not well defined\n",
    "* There is no a clear owner of the problem, not enough people available to work on the problem\n",
    "\n",
    "2) **Measure**: How big is the problem\n",
    "* The magnitude of the problem is not measured\n",
    "* The problem is worked on is not very important, taking away valuable resources from 'real' problems.\n",
    "\n",
    "3) **Analyze**: What causes the problem\n",
    "* Work starts on symptoms, not the root cause\n",
    "* Work is done on causes that don't really solve the problem\n",
    "\n",
    "4) **Improve**: Fix the root cause\n",
    "* The root cause is simply not fixed. Projectmanagement often. Work begins but is never completed since other priorities show up or discussions keep coming up.\n",
    "\n",
    "5) **Control**: Don't slide back\n",
    "* This is just a matter of priority\n",
    "\n",
    "As you can see these 5 steps are nothing fancy. Really applying them with common logic and consistency will get you quite far. \n",
    "\n",
    "And then there is also **Lean**. If I really had to simplify it to one sentence: think in process steps, make sure to only do things that add value and try to minimize/automate the rest. And it's about people, so also make the work worthwhile and fun. So OK that's two sentences.\n",
    "\n",
    "What about **statistics**? Statistics are fun, but like I learned from Master Black Belt Marcus Witteman: practical, graphical, analytical. In that order. So first ask the right question, identify the right graphs and then worry about p-values. It depends on the problem whether they are necessary (often not).\n",
    "\n",
    "So it's not magic, it's mostly logical thinking applied with discipline. While I don't do formal LSS projects, I still use this conceptual framework very frequently to check if we are doing things right. LSS offers a mindset anyone can use."
   ]
  },
  {
   "cell_type": "markdown",
   "metadata": {},
   "source": []
  }
 ],
 "metadata": {
  "colab": {
   "collapsed_sections": [],
   "name": "2020-09-12-redblacktree.ipynb",
   "provenance": []
  },
  "kernelspec": {
   "display_name": "Python 3",
   "language": "python",
   "name": "python3"
  },
  "language_info": {
   "codemirror_mode": {
    "name": "ipython",
    "version": 3
   },
   "file_extension": ".py",
   "mimetype": "text/x-python",
   "name": "python",
   "nbconvert_exporter": "python",
   "pygments_lexer": "ipython3",
   "version": "3.11.0"
  },
  "orig_nbformat": 2
 },
 "nbformat": 4,
 "nbformat_minor": 0
}
