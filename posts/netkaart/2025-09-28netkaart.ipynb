{
 "cells": [
  {
   "cell_type": "raw",
   "metadata": {
    "vscode": {
     "languageId": "raw"
    }
   },
   "source": [
    "---\n",
    "aliases:\n",
    "- /2025/09/28/netkaart\n",
    "author: Jesse van Elteren\n",
    "badges: true\n",
    "branch: master\n",
    "categories: [electricity, visualisation]\n",
    "date: '2025-09-28'\n",
    "description: maps maps en nog eens maps\n",
    "image: netkaart.png\n",
    "output-file: 2025-09-28-netkaart.html\n",
    "title: Als TenneT de NS was...\n",
    "toc: false\n",
    "\n",
    "---"
   ]
  },
  {
   "cell_type": "markdown",
   "metadata": {
    "vscode": {
     "languageId": "raw"
    }
   },
   "source": [
    "Ik ben altijd een bewonderaar geweest van de [London Tube Map](https://content.tfl.gov.uk/standard-tube-map.pdf). En sinds een aantal jaren ben ik ook fan van het hoogspanningsnet. Laten we eens kijken wat er gebeuren als we die met elkaar kruisen en een treinkaart van het hoogspanningsnet maken!\n",
    "\n",
    "Zie onder de 380kV lijnen (rood) en de 220kV lijnen (groen). Passagiers arriveren op hun bestemming met de snelheid van het licht!⚡ TenneT heeft tegen de 400 stations, ongeveer gelijk aan de NS.\n",
    "\n",
    "Merk op dat het hoogspanningsnet uit veel ringen bestaat. Dat zorgt ervoor dat bij uitval van een lijn de elektriciteit nog via de andere kant de bestemming kan bereiken. Het systeem moet blijven functioneren bij uitval van één enkele component. Dit noemen we het N-1 principe."
   ]
  },
  {
   "cell_type": "markdown",
   "metadata": {
    "vscode": {
     "languageId": "raw"
    }
   },
   "source": [
    "![](metro_tennet_380_220.png)"
   ]
  },
  {
   "cell_type": "markdown",
   "metadata": {},
   "source": [
    "TenneT is ook eigenaar van het 110kV en 150kV net. Lagere spanningen zijn goedkoper om aan te leggen, maar zorgen voor meer energieverlies tijdens het transport.Bij hele grote afstanden loont het om gelijkspanningsverbindingen (DC) te gaan aanleggen in plaats van wisselspanning (AC). Dat gebeurt nu bij verre offshoreplatformen op zee.\n",
    "\n",
    "Nederland is verbonden met Duitsland en België, maar ook met Denemarken en Noorwegen (via de Eemshaven) en Engeland (via de Maasvlakte). Deze Europese connecties (ook wel interconnectors genoemd) zorgen ervoor dat het net veel stabieler is. Het zorgt ook voor lagere prijzen, doordat elektriciteit van plekken met een overschot naar plekken met een tekort kan. \n",
    "\n",
    "Tenslotte zorgt TenneT ook voor de verbindingen met de windparken op zee, waar in de Noordzee de nieuwe groene energiecentrale van Europa verrijst."
   ]
  },
  {
   "cell_type": "markdown",
   "metadata": {
    "vscode": {
     "languageId": "raw"
    }
   },
   "source": [
    "![](netkaart.png)"
   ]
  },
  {
   "cell_type": "markdown",
   "metadata": {},
   "source": [
    "Het net lager dan 110kV is in beheer van de regionale netbeheerders, met spanningen van bijvoorbeeld 50kV en 10kV tot en met de laagspanning van 400V naar je huis. \n",
    "Als je het met het wegennet vergelijkt dan beheert TenneT de snelweg en de regionale netbeheerders de provinciale en lokale wegen."
   ]
  },
  {
   "cell_type": "markdown",
   "metadata": {
    "vscode": {
     "languageId": "raw"
    }
   },
   "source": [
    ":::{.callout-tip}\n",
    "\n",
    "Er zijn veel meer mappen te vinden:\n",
    "\n",
    "* [TenneT Netkaart](https://www.tennet.eu/nl/de-elektriciteitsmarkt/netkaarten) PDF versies van het TenneT netwerk. [Deze versie](https://tennet-drupal.s3.eu-central-1.amazonaws.com/default/2025-01/NL_DEC2024_Onshore_Netherlands.pdf) is ook in een metro style gemaakt en geeft ook mooi de afstanden weer naar de offshore platforms.\n",
    "* [Hoogspanningsnet.com netkaart](https://webkaart.hoogspanningsnet.com) met deze kaart kan je inzoomen. Tip: Zoek je eigen woonplaats op en kijk hoe je met het hoogspanningsnet bent verbonden.\n",
    "* [Liander interactieve netkaart](https://www.arcgis.com/apps/mapviewer/index.html?layers=11b7bcf1b78b4462b91db0dff234cf78) zoom in voor meer detail inclusief de laagspanning naar je eigen huis.\n",
    "* [ArcGis Online Netkaart](https://www.arcgis.com/apps/mapviewer/index.html?layers=02d4cfaf2a9241b68f9520748081d7e9) Ook een interactieve kaart gebasseerd op dezelfde gegevens.\n",
    "* [De NS spoorkaart](https://nieuws.ns.nl/spoorkaart-2025-hier-te-downloaden/) Echt een pareltje. De NS heeft ook wel geluk met heel veel kleurtjes en minder splitsingen dan het hoogspanningsnet.\n",
    "* [De Prorail spoorkaart](https://www.prorail.nl/siteassets/homepage/reizen/documenten/pr_spoorkaart_nl2024_web.pdf) Een geografische kaart. Leuk om te vergelijken met de NS spoorkaart.\n",
    "\n",
    ":::"
   ]
  },
  {
   "cell_type": "markdown",
   "metadata": {
    "vscode": {
     "languageId": "raw"
    }
   },
   "source": [
    ":::{.callout-warning}\n",
    "\n",
    "Er zijn veel dingen die niet kloppen aan de map:\n",
    "\n",
    "* De map klopt niet geografisch, net zoals de London Tube Map. Terneuzen ligt bijvoorbeeld in het echt ten zuiden van de Westerschelde. Maar ook stations die bijvoorbeeld horizontaal liggen op de map liggen dat niet in werkelijkheid.\n",
    "* De map is versimpeld, ik heb stations die heel dicht bij elkaar liggen samengevoegd, bijvoorbeeld in de Eemshaven.\n",
    "* De map is ook niet helemaal accuraat. In werkelijkheid is er bijvoorbeeld een directe verbinding tussen Maasbracht en Dodewaard, maar op de kaart lijkt het alsof je via Boxmeer moet. Net zoals je in werkelijkheid van Krimpen a/d IJssel niet via Crayestein naar Geertruidenberg gaat. Dit heb ik voor de leesbaarheid van de map aangepast.\n",
    "* Dit is een persoonlijk projectje van me, gebasseerd op openbare data. Het is toeval dat ik bij TenneT werk 😀\n",
    "\n",
    ":::"
   ]
  },
  {
   "cell_type": "markdown",
   "metadata": {
    "vscode": {
     "languageId": "raw"
    }
   },
   "source": [
    ":::{.callout-note}\n",
    "\n",
    "* Voor dit project heb ik de [publieke TenneT Geojson data](https://www.arcgis.com/apps/mapviewer/index.html?layers=02d4cfaf2a9241b68f9520748081d7e9) gebruikt.\n",
    "* Dat is geografische data, maar om zo'n map te maken moest ik er een graaf van maken zodat je weet welke stations verbonden zijn. Bijvoorbeeld door te detecteren of een lijn in een station begon, en welke lijnen met elkaar verbonden zijn. En rekening houden met verbindingen met splitsingen. En stations die dicht bij elkaar waren samenvoegen. En stations met lijnen die eroverheen gaan maar niet eindigen. Laten we zeggen dat het iets meer tijd heeft gekost dan ik had verwacht... De code is [in deze GitHub repo te vinden](https://github.com/jvanelteren/netkaart).\n",
    "* Om de visuele weergave te maken heb ik [Loom](https://github.com/ad-freiburg/loom/blob/master/README.md) gebruikt, van de Universiteit Freiburg. Een mooi stukje software met veel opties. Ook de code wat aangepast om het meer op m'n wensen aan te sluiten, zoals het gebruiken van het Londen Tube map lettertype.\n",
    "* Als basis voor de achtergrond heb ik de [TenneT Netkaart](https://www.tennet.eu/nl/de-elektriciteitsmarkt/netkaarten) gebruikt. Met [Google AI studio](https://aistudio.google.com/prompts/new_chat) de teksten verwijderd. Dit werkte heel goed.\n",
    "* De achtergrond en de map met [Inkscape](https://inkscape.org/) gevectorized en samengevoegd. Ook zijn hiermee de pijltjes toegevoegd, met het handje wat stationlabels, BritNed en NorNed kabel en de legenda toegevoegd.\n",
    "\n",
    ":::"
   ]
  }
 ],
 "metadata": {
  "colab": {
   "collapsed_sections": [],
   "name": "2020-09-12-redblacktree.ipynb",
   "provenance": []
  },
  "kernelspec": {
   "display_name": "Python 3",
   "language": "python",
   "name": "python3"
  },
  "language_info": {
   "codemirror_mode": {
    "name": "ipython",
    "version": 3
   },
   "file_extension": ".py",
   "mimetype": "text/x-python",
   "name": "python",
   "nbconvert_exporter": "python",
   "pygments_lexer": "ipython3",
   "version": "3.11.0"
  },
  "orig_nbformat": 2
 },
 "nbformat": 4,
 "nbformat_minor": 0
}
