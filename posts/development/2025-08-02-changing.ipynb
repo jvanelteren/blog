{
 "cells": [
  {
   "cell_type": "raw",
   "metadata": {
    "vscode": {
     "languageId": "raw"
    }
   },
   "source": [
    "---\n",
    "aliases:\n",
    "- /2025/08/02/leansixsigma\n",
    "author: Jesse van Elteren\n",
    "badges: true\n",
    "branch: master\n",
    "categories: [lean six sigma]\n",
    "date: '2025-08-02'\n",
    "description: it's not magic, it’s logical thinking\n",
    "image: btc.jpg\n",
    "output-file: 2025-08-02-leansixsigma.html\n",
    "title: Lean Six Sigma\n",
    "toc: false\n",
    "draft: true\n",
    "---"
   ]
  },
  {
   "cell_type": "markdown",
   "metadata": {},
   "source": [
    "Let's post some mid career learnings. Over the course of my career I've learned some behaviours from others. Here is the list in no particular order\n",
    "\n",
    "\n",
    "* Keep things lighthearthed - Hans Schotel\n",
    "* Be genuinely interested - Joes Wigman\n",
    "* Let the other person speak in a conversation to learn what their needs are - Luc Steenhorst\n",
    "* Keep it simple, there is so much complexity already Jacob Middeldorp\n",
    "* Say what you are going to do, not what you are not going to do - Roelof Crevecoeur\n",
    "* Use the power of enthusiasm - Riel de Groot\n",
    "* See good things in others and compliment this - Sophia Bai\n",
    "* Have fun at work\n",
    "* If you don't believe your work is important, you'll never get it done - Francois Ramond\n",
    "* Dare to make choices as leader - Eric de Jongh"
   ]
  }
 ],
 "metadata": {
  "colab": {
   "collapsed_sections": [],
   "name": "2020-09-12-redblacktree.ipynb",
   "provenance": []
  },
  "kernelspec": {
   "display_name": "Python 3",
   "language": "python",
   "name": "python3"
  },
  "language_info": {
   "codemirror_mode": {
    "name": "ipython",
    "version": 3
   },
   "file_extension": ".py",
   "mimetype": "text/x-python",
   "name": "python",
   "nbconvert_exporter": "python",
   "pygments_lexer": "ipython3",
   "version": "3.11.0"
  },
  "orig_nbformat": 2
 },
 "nbformat": 4,
 "nbformat_minor": 0
}
