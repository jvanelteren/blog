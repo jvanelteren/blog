{
 "cells": [
  {
   "cell_type": "raw",
   "metadata": {},
   "source": [
    "---\n",
    "aliases:\n",
    "- /2021/07/10/aoc\n",
    "author: Jesse van Elteren\n",
    "badges: false\n",
    "branch: master\n",
    "categories: [puzzles]\n",
    "date: '2021-07-10'\n",
    "description: Solving puzzles with code\n",
    "image: aoc2.PNG\n",
    "output-file: 2021-07-10-aoc.html\n",
    "title: Advent of Code\n",
    "toc: false\n",
    "\n",
    "---\n",
    "\n"
   ]
  },
  {
   "cell_type": "markdown",
   "metadata": {},
   "source": [
    "![aoc](aoc.PNG)"
   ]
  },
  {
   "cell_type": "markdown",
   "metadata": {},
   "source": [
    "Remember these 🎅Advent Calenders🎅 where you open a door each day to find a piece of candy? [Advent of Code](https://adventofcode.com/) is like that, but with coding puzzles: from 1st to 25th of December, every day a puzzle unlocks at midnight. Each puzzle has two parts where you can earn a star, so you can earn 2 stars per day, adding up to a total of 50. Since 2015 every year the amount of particpants grows, in 2020 over 150.000 people around the world have participated. You can solve the puzzles any way you like. I've always used Python, but anything goes, even Excel (if you are brave).\n",
    "\n",
    "I was introduced to AoC in 2018. It was a real challenge🤯 to solve all the puzzles. In 2020 I tried to compete for the leaderboard, which meant getting up at 5:50AM 25 times in a row, which was an experience in itself. Never did I get a spot in the top 100, but I am proud to be part of the ~700 people who finished all the puzzles from 2015 onwards.\n",
    "\n",
    "For old times sake, I've listed my personal Top 9 most memorable puzzles of all time (2015-2020):\n",
    "\n",
    "### 9) 2019 Day 23: [Category Six](https://adventofcode.com/2019/day/23)\n",
    "A nice puzzle where you had to simulate computers💻 receiving and sending packets over a network to eachother. Memorable because I later could use it to practice using Python🐍 Async. \n",
    "\n",
    "### 8) 2018 Day 23: [Experimental Emergency Teleportation](https://adventofcode.com/2018/day/23)\n",
    "Given a 3D room with many bots that can reach up to a certain distance, what's the spot where you can reach most bots? Seems simple, but the room is HUGE! This makes solving the puzzle a nice challenge.\n",
    "\n",
    "### 7) 2019 Day 13: [Care Package](https://adventofcode.com/2019/day/13)\n",
    "2019 is a special year for AoC, since you eventually code your own working 'IntComputer'. During day 13, we used this computer to play [arkanoid](https://en.wikipedia.org/wiki/Arkanoid). Later on there were more puzzles where the IntComputer was used.\n",
    "\n",
    "### 6) 2020 Day 21: [Allergen Assessment](https://adventofcode.com/2020/day/21)\n",
    "For many people probably not very memorable, but this got me the 189th spot on the leaderboard💯, where I normally hovered around 1600. Usage of sets in Python just came together for me in this one. \n",
    "\n",
    "### 5) 2019 Day 18: [Many-Worlds Interpretation](https://adventofcode.com/2019/day/18)\n",
    "Memorable because it was very difficult to solve with code and did it eventually on paper! You're in a maze and need collect keys🗝. The keys correspond to doors that open when you find the key. The mechanism of unlocking doors makes the amount of possible states explode.\n",
    "\n",
    "### 4) 2018 Day 17: [Reservoir Research](https://adventofcode.com/2018/day/17)\n",
    "Another one from my first year of participation. You have to simulate water🌊 falling down into buckets. Just a great puzzle to toy around with. All AoC puzzles have some kind of story to them. I found this one to be especially memorable.\n",
    "\n",
    "### 3) 2016 Day 11: [Radioisotope Thermoelectric Generators](https://adventofcode.com/2016/day/11)\n",
    "Remember that puzzle of the wolf🐺, chicken🐔 and farmer👨‍🌾 that have a boat to cross the river? That's the one, but now with 5 animals and 3 rivers. I played with lego blocks trying to find the best solution. Didn't work, got confused and in the end had to make it into a [BFS](https://en.wikipedia.org/wiki/Breadth-first_search), which is an algorithm that comes around frequently in AoC.\n",
    "\n",
    "### 2) 2018 Day 10: [The Stars Align](https://adventofcode.com/2018/day/10)\n",
    "A puzzle where you are presented with a set of stars🌟 that are moving towards eachother. Again a simulation where at a certain point of time the stars align into a code. Animating the stars and having to zoom in into that tiny spot where they formed the code was lots of fun.\n",
    "\n",
    "### 1) 2019 Day 22: [Slam Shuffle](https://adventofcode.com/2019/day/22)\n",
    "And the number one, the only puzzle in 2019 I didn't solve in the same day. Take a deck of cards🗃, apply some operations on it and identify the card in postion 2020. Easy enough right? Yes, untill for part 2 that deck consists of 119315717514047 cards and you have to apply the operations 101741582076661 times! Good luck brute forcing that. It took me around 20 hours to solve the puzzle and was so close to giving up. Such a great feeling when it finally came together. Wrote [a small post on reddit](https://www.reddit.com/r/adventofcode/comments/ees6bj/2019_day_22_part_2_story_of_solving_spoilers/) on it. \n",
    "\n",
    "I've uploaded my solutions to [GitHub](https://github.com/jvanelteren/advent_of_code). People post their solutions on [the AoC subreddit](https://www.reddit.com/r/adventofcode/), which is a great way to learn from the best. \n",
    "\n",
    "Needless to say I highly recommend AoC! See you all December 1st🎄!"
   ]
  },
  {
   "cell_type": "markdown",
   "metadata": {},
   "source": []
  }
 ],
 "metadata": {
  "colab": {
   "collapsed_sections": [],
   "name": "Copy of 4_topic_development.ipynb",
   "provenance": []
  },
  "kernelspec": {
   "display_name": "Python 3",
   "language": "python",
   "name": "python3"
  },
  "language_info": {
   "codemirror_mode": {
    "name": "ipython",
    "version": 3
   },
   "file_extension": ".py",
   "mimetype": "text/x-python",
   "name": "python",
   "nbconvert_exporter": "python",
   "pygments_lexer": "ipython3",
   "version": "3.11.0"
  }
 },
 "nbformat": 4,
 "nbformat_minor": 2
}
